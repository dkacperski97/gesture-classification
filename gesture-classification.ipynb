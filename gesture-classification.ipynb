{
 "cells": [
  {
   "cell_type": "markdown",
   "metadata": {},
   "source": [
    "# Temat: Klasyfikacja rodzajów gestów dłoni na podstawie nagranej aktywności mięśni\n",
    "\n",
    "### Autorzy\n",
    "Damian Kacperski\n",
    "Maciej Dmochowski\n",
    "\n",
    "Grupa 3, Czwartek 8:15 - 10:00"
   ]
  },
  {
   "cell_type": "markdown",
   "metadata": {},
   "source": [
    "## Opis problemu\n",
    "\n",
    "Celem projektu jest sklasyfikowanie czterech rodzaji gestów dłoni: kamienia (ściśniętej pięści), papieru (prostej ręki), nożyc (wyprostowany tylko palec środkowy i wskazujący) oraz znaku OK (wyprostowany kciuk). Analizę należy przeprowadzić na podstawie 8 odczytów z 8 czujników EMG aktywności ludzkich mięśni."
   ]
  },
  {
   "cell_type": "markdown",
   "metadata": {},
   "source": [
    "## Wczytanie danych"
   ]
  },
  {
   "cell_type": "code",
   "execution_count": null,
   "metadata": {},
   "outputs": [],
   "source": [
    "import pandas as pd\n",
    "\n",
    "path = 'r./data/'\n",
    "dt = [pd.read_csv(path + str(file) + '.csv', header=None) for file in range(0, 4)]\n",
    "\n",
    "columns = ['r' + str(reading) + '_s' + str(sensor) for reading in range(0, 8) for sensor in range(0, 8)] + ['gesture']\n",
    "for dta in dt:\n",
    "    dta.columns = columns\n",
    "\n",
    "data = pd.concat(dt, sort=False)\n",
    "\n",
    "data.head()"
   ]
  },
  {
   "cell_type": "markdown",
   "metadata": {},
   "source": [
    "## Podstawowa analiza danych\n",
    "\n",
    "### Określenie liczby obiektów"
   ]
  },
  {
   "cell_type": "code",
   "execution_count": null,
   "metadata": {},
   "outputs": [],
   "source": [
    "objects_number = len(data.index)\n",
    "\n",
    "print('Liczba obiektów:', objects_number)"
   ]
  },
  {
   "cell_type": "markdown",
   "metadata": {},
   "source": [
    "### Określenie liczby klas"
   ]
  },
  {
   "cell_type": "code",
   "execution_count": null,
   "metadata": {},
   "outputs": [],
   "source": [
    "classes_number = len(data['gesture'].unique())\n",
    "\n",
    "print('Liczba klas:', classes_number)"
   ]
  },
  {
   "cell_type": "markdown",
   "metadata": {},
   "source": [
    "### Określenie zakresów zmienności poszczególnych atrybutów"
   ]
  },
  {
   "cell_type": "code",
   "execution_count": null,
   "metadata": {},
   "outputs": [],
   "source": [
    "import matplotlib.pyplot as plt\n",
    "import seaborn as sns\n",
    "\n",
    "plt.figure(figsize = (10, 350), dpi = 80)\n",
    "for r in range(0, 8):\n",
    "    for s in range(0, 8):\n",
    "        plt.subplot(64, 1, r*8 + (s+1))\n",
    "        name = 'r' + str(r) + '_s' + str(s)\n",
    "        sns.boxplot(x = \"gesture\", y = name, data = data)"
   ]
  },
  {
   "cell_type": "markdown",
   "metadata": {},
   "source": [
    "### Określenie wartości statystycznych"
   ]
  },
  {
   "cell_type": "code",
   "execution_count": null,
   "metadata": {},
   "outputs": [],
   "source": [
    "sensors_data = data.drop(['gesture'], axis=1)\n",
    "sensors_data.describe()"
   ]
  },
  {
   "cell_type": "markdown",
   "metadata": {},
   "source": [
    "### Określenie poziomu wypełnienia kolumn"
   ]
  },
  {
   "cell_type": "code",
   "execution_count": null,
   "metadata": {},
   "outputs": [],
   "source": [
    "objects_with_missing_columns = data.isna().sum().sum()\n",
    "\n",
    "print('Liczba obiektów z brakującymi kolumnami:', objects_with_missing_columns)"
   ]
  },
  {
   "cell_type": "markdown",
   "metadata": {},
   "source": [
    "### Określenie ilości unikalnych danych"
   ]
  },
  {
   "cell_type": "code",
   "execution_count": null,
   "metadata": {},
   "outputs": [],
   "source": [
    "unique_data_count = len(data.drop_duplicates())\n",
    "\n",
    "print('Ilość unikalnych danych:', unique_data_count)"
   ]
  },
  {
   "cell_type": "markdown",
   "metadata": {},
   "source": [
    "Dostarczone dane składają się z 11678 obiektów, każdy obiekt jest unikalny i posiada wypełnione wszystkie kolumny tj. pierwsze 64 kolumny to informacje o 8 kolejnych odczytach z 8 czujników, a 65 kolumna to rodzaj gestu, jedna z 4 klas. Zakres zmienności jest szczególnie duży przy odczytach dla klasy \"0\", czyli gestu pięści, kiedy wszystkie mięśnie są aktywne, natomiast szczególnie mały dla klasy \"1\", czyli gestu papieru, kiedy mięśnie są rozluźnione."
   ]
  },
  {
   "cell_type": "markdown",
   "metadata": {},
   "source": [
    "## Analiza korelacji między zmiennymi\n",
    "\n",
    "Przeanalizować korelację między zmiennymi"
   ]
  },
  {
   "cell_type": "code",
   "execution_count": null,
   "metadata": {
    "scrolled": false
   },
   "outputs": [],
   "source": [
    "plt.figure(figsize = (64, 64), dpi = 100)\n",
    "sns.heatmap(sensors_data.corr(), annot = sensors_data.corr())\n",
    "plt.show()"
   ]
  },
  {
   "cell_type": "markdown",
   "metadata": {},
   "source": [
    "Z analizy korelacji możemy odczytać, że istnieje relacja pomiędzy tymi samymi czujnikami w ramach kolejnych odczytów oraz pomiędzy różnymi czujnikami w ramach jednego odczytu. Natomast związek pomiędzy różnymi czujnikami w ramach różnych odczytów jest bardzo słaby."
   ]
  },
  {
   "cell_type": "markdown",
   "metadata": {},
   "source": [
    "## Przygotowanie danych do analizy\n",
    "\n",
    "Dane są w pełni wypełnione dlatego nie ma potrzeby usuwania brakujących danych lub kolumn."
   ]
  },
  {
   "cell_type": "markdown",
   "metadata": {},
   "source": [
    "## Analiza podobieństwa przy pomocy algorytmów grupowania\n",
    "\n",
    "Przeanalizować podobieństwo między danymi przy pomocy poznanych algorytmów grupowania wraz z analizą ilości grup"
   ]
  },
  {
   "cell_type": "code",
   "execution_count": null,
   "metadata": {
    "scrolled": false
   },
   "outputs": [],
   "source": [
    "from scipy.cluster.hierarchy import linkage, dendrogram, ward, fcluster\n",
    "from sklearn.cluster import AgglomerativeClustering\n",
    "\n",
    "ile_grup = 4\n",
    "sd_copy = sensors_data\n",
    "attribute_1 = 'r5_s4'\n",
    "attribute_2 = 'r1_s6'\n",
    "\n",
    "klasa = data['gesture'].astype('category').cat.codes\n",
    "\n",
    "for index, linkage in enumerate(('average', 'complete', 'single', 'ward')):\n",
    "    model = AgglomerativeClustering(linkage=linkage, n_clusters=ile_grup)\n",
    "    model.fit(sd_copy)\n",
    "    grupa = model.labels_\n",
    "\n",
    "    plt.figure(figsize=(15,5))\n",
    "    \n",
    "    plt.subplot(1,3,1)\n",
    "    plt.scatter( x=data[attribute_1], y=data[attribute_2], c=klasa)\n",
    "    plt.title('dane oryginalne')\n",
    "\n",
    "    plt.subplot(1,3,2)\n",
    "    sd_copy['grupa']= model.labels_\n",
    "    plt.scatter( x=sensors_data[attribute_1], y=sd_copy[attribute_2], c=grupa)\n",
    "    plt.title('wynik grupowania')\n",
    "\n",
    "    plt.subplot(1,3,3)\n",
    "    pomylki = pd.crosstab(data['gesture'], sd_copy['grupa'])\n",
    "    print(pomylki)\n",
    "    sns.heatmap(pomylki, annot = pomylki)\n",
    "    plt.title('macierz pomyłek')\n",
    "    \n",
    "    plt.suptitle('Metoda wyznaczania odległości międzygrupowej: ' + linkage, size=17)"
   ]
  },
  {
   "cell_type": "markdown",
   "metadata": {},
   "source": [
    "Analiza przy pomocy algorytmów grupowania nie przyniosła pozytywnych efektów. Spowodowane jest to tym, że dane każdej z klas mają podobne wartości i wszystkie obiekty są w bliskich odległościach. Grupowanie k-średnich również nie przyniosłoby pozytywnego efektu, ponieważ centroidy grup znajdują się praktycznie w jednym punkcie."
   ]
  },
  {
   "cell_type": "markdown",
   "metadata": {},
   "source": [
    "## Testowanie wybranych klasyfikatorów\n",
    "\n",
    "Testujemy wybrane klasyfikatory pod kątem doboru ich parametrów"
   ]
  },
  {
   "cell_type": "code",
   "execution_count": null,
   "metadata": {},
   "outputs": [],
   "source": [
    "from sklearn.model_selection import train_test_split \n",
    "from sklearn.metrics import classification_report, confusion_matrix\n",
    "from sklearn.preprocessing import StandardScaler\n",
    "from sklearn.neighbors import KNeighborsClassifier\n",
    "from sklearn.naive_bayes import GaussianNB\n",
    "from sklearn.tree import DecisionTreeClassifier\n",
    "from sklearn.utils.multiclass import unique_labels"
   ]
  },
  {
   "cell_type": "markdown",
   "metadata": {},
   "source": [
    "Podział zbioru danych na argumenty i wyniki, podział na dane treningowe i testowe."
   ]
  },
  {
   "cell_type": "code",
   "execution_count": null,
   "metadata": {},
   "outputs": [],
   "source": [
    "x = data.drop(['gesture'], axis=1)\n",
    "x = StandardScaler().fit_transform(x)\n",
    "y = data['gesture']\n",
    "\n",
    "x_train, x_test, y_train, y_test = train_test_split(x, y, test_size = .30, random_state=38)"
   ]
  },
  {
   "cell_type": "markdown",
   "metadata": {},
   "source": [
    "Wyświetlanie błędów"
   ]
  },
  {
   "cell_type": "code",
   "execution_count": null,
   "metadata": {},
   "outputs": [],
   "source": [
    "import numpy as np\n",
    "\n",
    "def view_confusion_matrix(y_true, y_pred, classes,title=None, cmap=plt.cm.Greens):\n",
    "    if not title:\n",
    "        title=\"Macierz błędów\"\n",
    "    conf_mtx = confusion_matrix(y_true, y_pred)\n",
    "\n",
    "    fig, ax = plt.subplots()\n",
    "    im = ax.imshow(conf_mtx, interpolation='nearest', cmap=cmap)\n",
    "    ax.figure.colorbar(im, ax=ax)\n",
    "    ax.set(xticks=np.arange(conf_mtx.shape[1]),\n",
    "           yticks=np.arange(conf_mtx.shape[0]),\n",
    "           xticklabels=classes, yticklabels=classes,\n",
    "           title=title,\n",
    "           ylabel='Prawdziwa klasa',\n",
    "           xlabel='Przewidywana klasa')\n",
    "\n",
    "    plt.setp(ax.get_xticklabels(), rotation=45, ha=\"right\",\n",
    "             rotation_mode=\"anchor\")\n",
    "\n",
    "    fmt = 'd'\n",
    "    \n",
    "    thresh = conf_mtx.max() / 2.\n",
    "    \n",
    "    for k in range(conf_mtx.shape[0]):\n",
    "        for l in range(conf_mtx.shape[1]):\n",
    "            ax.text(k, l, format(conf_mtx[k, l], fmt),\n",
    "                    ha=\"center\", va=\"center\",\n",
    "                    color=\"white\" if conf_mtx[k, l] > thresh else \"black\")\n",
    "            \n",
    "    fig.tight_layout()\n",
    "    \n",
    "    return ax"
   ]
  },
  {
   "cell_type": "markdown",
   "metadata": {},
   "source": [
    "### Klasyfikator KNN na podstawie 15 najbliższych"
   ]
  },
  {
   "cell_type": "code",
   "execution_count": null,
   "metadata": {},
   "outputs": [],
   "source": [
    "knn = KNeighborsClassifier(15)\n",
    "\n",
    "knn.fit(x_train, y_train)\n",
    "y_pred = knn.predict(x_test)\n",
    "result = knn.score(x_test, y_test)\n",
    "\n",
    "target_names=['kamień','papier','nożyce','OK']\n",
    "\n",
    "print(\"Sprawność \", result, \"\\n\" )\n",
    "print(classification_report(y_test, y_pred, target_names=target_names))\n",
    "view_confusion_matrix(y_test, y_pred, classes=target_names)\n",
    "\n",
    "plt.show()"
   ]
  },
  {
   "cell_type": "markdown",
   "metadata": {},
   "source": [
    "### Klasyfikator KNN - klasyfikacja na podstawie 100 najbliższych sąsiadów"
   ]
  },
  {
   "cell_type": "code",
   "execution_count": null,
   "metadata": {},
   "outputs": [],
   "source": [
    "knn = KNeighborsClassifier(100)\n",
    "\n",
    "knn.fit(x_train, y_train)\n",
    "y_pred = knn.predict(x_test)\n",
    "result = knn.score(x_test, y_test)\n",
    "\n",
    "target_names=['kamień','papier','nożyce','OK']\n",
    "\n",
    "print(\"Sprawność \", result, \"\\n\" )\n",
    "print(classification_report(y_test, y_pred, target_names=target_names))\n",
    "view_confusion_matrix(y_test, y_pred, classes=target_names)\n",
    "\n",
    "plt.show()"
   ]
  },
  {
   "cell_type": "markdown",
   "metadata": {},
   "source": [
    "Wraz ze wzrostem liczby sasiadów do których jest porównywany punkt sprawność znacząco maleje. Przy 15 sąsiadach przy pierwszej próbie dokładność wynosi jedynie 63% a, przy wzroscie ich do 100 maleje jeszcze o 10% do 53%. Tak mała sprawność jest nie do zakcepotowania. Tak niska skuteczność spowodowana jest wielowymiarowością danych. Wraz ze wzrostem sąsiadów wzrasta również czas uczenia i predykcji."
   ]
  },
  {
   "cell_type": "markdown",
   "metadata": {},
   "source": [
    "### Naiwny klasyfikator bayesowski "
   ]
  },
  {
   "cell_type": "code",
   "execution_count": null,
   "metadata": {},
   "outputs": [],
   "source": [
    "ncb = GaussianNB()\n",
    "\n",
    "ncb.fit(x_train, y_train)\n",
    "y_pred = ncb.predict(x_test)\n",
    "result = ncb.score(x_test, y_test)\n",
    "\n",
    "target_names=['kamień','papier','nożyce','OK']\n",
    "\n",
    "print(\"Sprawność \", result, \"\\n\" )\n",
    "print(classification_report(y_test, y_pred, target_names=target_names))\n",
    "view_confusion_matrix(y_test, y_pred, classes=target_names)\n",
    "\n",
    "plt.show()"
   ]
  },
  {
   "cell_type": "markdown",
   "metadata": {},
   "source": [
    "Sprawność jaką osiąga ten klasyfikator wynosi około 88% co jest już przyzwoitym wynikiem. Praca na niezależnych predykatorach dobrze widać sprawdza się na danym zbiorze danych - sprawnie się uczy i ma dużą moc predykcyjną."
   ]
  },
  {
   "cell_type": "markdown",
   "metadata": {},
   "source": [
    "### Klasyfikator Drzewa Decyzyjnego bez ustawionej głębokości maksymalnej - kryterium 'gini'."
   ]
  },
  {
   "cell_type": "code",
   "execution_count": null,
   "metadata": {},
   "outputs": [],
   "source": [
    "dtc = DecisionTreeClassifier()\n",
    "\n",
    "dtc.fit(x_train, y_train)\n",
    "y_pred = dtc.predict(x_test)\n",
    "result = dtc.score(x_test, y_test)\n",
    "\n",
    "target_names=['kamień','papier','nożyce','OK']\n",
    "\n",
    "print(\"Sprawność: \", result, \"\\n\" )\n",
    "print(classification_report(y_test, y_pred, target_names=target_names))\n",
    "view_confusion_matrix(y_test, y_pred, classes=target_names)\n",
    "\n",
    "plt.show()"
   ]
  },
  {
   "cell_type": "markdown",
   "metadata": {},
   "source": [
    "### Klasyfikator Drzewa Decyzyjnego z ustawioną głębokością maksymalną - kryterium 'gini'."
   ]
  },
  {
   "cell_type": "code",
   "execution_count": null,
   "metadata": {},
   "outputs": [],
   "source": [
    "dtc = DecisionTreeClassifier(max_depth=25)\n",
    "\n",
    "dtc.fit(x_train, y_train)\n",
    "y_pred = dtc.predict(x_test)\n",
    "result = dtc.score(x_test, y_test)\n",
    "\n",
    "target_names=['kamień','papier','nożyce','OK']\n",
    "\n",
    "print(\"Sprawność: \", result, \"\\n\" )\n",
    "print(classification_report(y_test, y_pred, target_names=target_names))\n",
    "view_confusion_matrix(y_test, y_pred, classes=target_names)\n",
    "\n",
    "plt.show()"
   ]
  },
  {
   "cell_type": "markdown",
   "metadata": {},
   "source": [
    "### Klasyfikator Drzewa Decyzyjnego z ustawioną głębokością maksymalną, kryterium 'entropia'."
   ]
  },
  {
   "cell_type": "code",
   "execution_count": null,
   "metadata": {},
   "outputs": [],
   "source": [
    "dtc = DecisionTreeClassifier(max_depth=25, criterion='entropy')\n",
    "\n",
    "dtc.fit(x_train, y_train)\n",
    "y_pred = dtc.predict(x_test)\n",
    "result = dtc.score(x_test, y_test)\n",
    "\n",
    "target_names=['kamień','papier','nożyce','OK']\n",
    "\n",
    "print(\"Sprawność: \", result, \"\\n\" )\n",
    "print(classification_report(y_test, y_pred, target_names=target_names))\n",
    "view_confusion_matrix(y_test, y_pred, classes=target_names)\n",
    "\n",
    "plt.show()"
   ]
  },
  {
   "cell_type": "markdown",
   "metadata": {},
   "source": [
    "Wyniki są do siebie bardzo zbliżone. Dokładność przewidywania wynosi ok 78%. Przy zastosowaniu klasyfikatora drzewa decyzyjnego z ustawioną głębokością maksymalną, oraz kryterium 'gini' skuteczność algorytmu jest o ok 1% lepsza niż bez wyznaczonej głębokości maksymalnej. Mimo wszystko jest to przyzwoity wynik, mimo że zbiór danych jest wielowymiarowy. \n",
    "Ustawienie maksymalnej głębokości pozwala uniknąć przeładowania."
   ]
  },
  {
   "cell_type": "markdown",
   "metadata": {},
   "source": [
    "## Wnioski\n",
    "Analizowane dane są pełne i odpowienio uporządkowane. Związek pomiędzy różnymi czujnikami w ramach różnych odczytów jest bardzo słaby. Analiza przy pomocy algorytmów grupowania nie przyniosła pozytywnych efektów, ponieważ wartości danych w klasach są zbyt podobne i obiekty są w zbyt bliskich odległościach. Grupowanie k-średnich też nie dało by akceptowalnego rozwiązania, ponieważ centroidy grup znajdują się /- można by rzec - w jednym punkcie.\n",
    "Najlepiej działającym klasyfikatorem na danym zbiorze danych okazał się naiwny klasyfikator bayerowski. Sprawność 88% jaką osiągnął jest zadowalający. Praca na niezależnych predykatorach dobrze sprawdza się dla tak różnych danych dla róznych klas. Najczęściej mylone są gesty podobne do siebie np. \"nożyczki\"- \"papier\", \"ok\" - \"kamień\".\n",
    "Oceniając wyniki jest możliwa poprawna i całkiem dokładna klasyfikacja gestów z zebranych danych."
   ]
  }
 ],
 "metadata": {
  "kernelspec": {
   "display_name": "Python 3",
   "language": "python",
   "name": "python3"
  },
  "language_info": {
   "codemirror_mode": {
    "name": "ipython",
    "version": 3
   },
   "file_extension": ".py",
   "mimetype": "text/x-python",
   "name": "python",
   "nbconvert_exporter": "python",
   "pygments_lexer": "ipython3",
   "version": "3.6.7"
  }
 },
 "nbformat": 4,
 "nbformat_minor": 2
}
